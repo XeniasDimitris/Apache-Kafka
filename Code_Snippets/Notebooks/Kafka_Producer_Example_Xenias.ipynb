{
 "cells": [
  {
   "cell_type": "markdown",
   "metadata": {},
   "source": [
    "# This is a simple example of Producer in Kafka by Xenias Dimitrios"
   ]
  },
  {
   "cell_type": "markdown",
   "metadata": {},
   "source": [
    "### Before running the cells, you have to start the zookeeper server and the brokers of Kafka cluster at your local machine"
   ]
  },
  {
   "cell_type": "code",
   "execution_count": null,
   "metadata": {},
   "outputs": [],
   "source": [
    "!pip3 install kafka-python\n",
    "!pip3 install requests "
   ]
  },
  {
   "cell_type": "code",
   "execution_count": null,
   "metadata": {},
   "outputs": [],
   "source": [
    "import requests\n",
    "headers = {'x-rapidapi-host':'covid-19-data.p.rapidapi.com', 'x-rapidapi-key':'642fed79f1msh04682ecfc9ca8f6p161da1jsn3b123c3a533d'}"
   ]
  },
  {
   "cell_type": "code",
   "execution_count": null,
   "metadata": {},
   "outputs": [],
   "source": [
    "def fetch_data(date,country):\n",
    "    params = {'date': date, 'name': country}\n",
    "    res = requests.get('https://covid-19-data.p.rapidapi.com/report/country/name', params=params, headers=headers)\n",
    "    return res.json()"
   ]
  },
  {
   "cell_type": "markdown",
   "metadata": {},
   "source": [
    "===========================\n",
    "#### Producer Snippet Code\n",
    "==========================="
   ]
  },
  {
   "cell_type": "code",
   "execution_count": null,
   "metadata": {},
   "outputs": [],
   "source": [
    "from kafka import KafkaProducer\n",
    "import json"
   ]
  },
  {
   "cell_type": "code",
   "execution_count": null,
   "metadata": {},
   "outputs": [],
   "source": [
    "\n",
    "\n",
    "def connect_kafka_producer():\n",
    "    producer = None\n",
    "    try:\n",
    "        producer = KafkaProducer(bootstrap_servers='localhost:9092', value_serializer= lambda x: json.dumps(x).encode('utf-8'))\n",
    "    except Exception as ex:\n",
    "        print('Exception while connecting KafkaProducer')\n",
    "        print(str(ex))\n",
    "    finally:\n",
    "        return producer\n",
    "    \n",
    "def publish_message(producer_instance,topic_name,value):\n",
    "    try:\n",
    "        producer_instance.send(topic_name, value=value)\n",
    "        print('Message published successfully')\n",
    "    except Exception as ex:\n",
    "        print('Exception while publishing message')\n",
    "        print(str(ex))\n",
    "       "
   ]
  },
  {
   "cell_type": "code",
   "execution_count": null,
   "metadata": {},
   "outputs": [],
   "source": [
    "import datetime\n",
    "def date_window(start = '2020-1-2', finish = str(datetime.date.today())):\n",
    "    window = []\n",
    "    step = datetime.timedelta(days=1)\n",
    "    start = start.split('-')\n",
    "    startdate = datetime.date(int(start[0]), int(start[1]), int(start[2]))\n",
    "    finish = finish.split('-')\n",
    "    finishdate = datetime.date(int(finish[0]), int(finish[1]), int(finish[2]))\n",
    "    x = startdate\n",
    "    while x!=finishdate:\n",
    "        window.append(str(x))\n",
    "        x += step\n",
    "    window.append(str(finishdate))\n",
    "    return window\n"
   ]
  },
  {
   "cell_type": "code",
   "execution_count": null,
   "metadata": {},
   "outputs": [],
   "source": [
    "from time import sleep\n",
    "producer_instance = connect_kafka_producer()\n",
    "\n",
    "WINDOW = date_window('2020-05-1','2020-05-1')\n",
    "COUNTRY = 'italy'\n",
    "TOPIC = 'Covid-19'\n",
    "\n",
    "for date in WINDOW:\n",
    "    data = fetch_data(date,COUNTRY)\n",
    "    print(data)\n",
    "    publish_message(producer_instance,TOPIC,data)\n",
    "    sleep(1)\n"
   ]
  }
 ],
 "metadata": {
  "kernelspec": {
   "display_name": "Python 3",
   "language": "python",
   "name": "python3"
  },
  "language_info": {
   "codemirror_mode": {
    "name": "ipython",
    "version": 3
   },
   "file_extension": ".py",
   "mimetype": "text/x-python",
   "name": "python",
   "nbconvert_exporter": "python",
   "pygments_lexer": "ipython3",
   "version": "3.8.2"
  }
 },
 "nbformat": 4,
 "nbformat_minor": 4
}
