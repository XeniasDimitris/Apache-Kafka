{
 "cells": [
  {
   "cell_type": "markdown",
   "metadata": {},
   "source": [
    "# This is a simple example of Consumer in Kafka by Xenias Dimitrios"
   ]
  },
  {
   "cell_type": "markdown",
   "metadata": {},
   "source": [
    "### Before running the cells, you have to start the zookeeper server,the brokers of Kafka cluster and the mongodb service"
   ]
  },
  {
   "cell_type": "code",
   "execution_count": null,
   "metadata": {},
   "outputs": [],
   "source": [
    "!pip3 install kafka-python\n",
    "!pip3 install pymongo"
   ]
  },
  {
   "cell_type": "markdown",
   "metadata": {},
   "source": [
    "===========================\n",
    "#### Cosnumer Snippet Code\n",
    "==========================="
   ]
  },
  {
   "cell_type": "code",
   "execution_count": null,
   "metadata": {},
   "outputs": [],
   "source": [
    "from kafka import KafkaConsumer\n",
    "from pymongo import MongoClient"
   ]
  },
  {
   "cell_type": "code",
   "execution_count": null,
   "metadata": {},
   "outputs": [],
   "source": [
    "from json import loads\n",
    "\n",
    "TOPIC=\"Covid-19\"\n",
    "\n",
    "def connect_kafka_consumer():\n",
    "    consumer = None\n",
    "    try:\n",
    "        consumer = KafkaConsumer(TOPIC, bootstrap_servers='localhost:9092',\n",
    "                                 auto_offset_reset='earliest',\n",
    "                                 group_id='my-group',\n",
    "                                 value_deserializer= lambda x: loads(x.decode('utf-8')))\n",
    "    except Exception as ex:\n",
    "        print('Exception while connecting KafkaProducer')\n",
    "        print(str(ex))\n",
    "    finally:\n",
    "        return consumer\n",
    "                                 \n",
    "def connect_to_mongo():\n",
    "    client = None\n",
    "    try:\n",
    "        client = MongoClient('localhost:27017')\n",
    "        collection = client.Covid.Covid\n",
    "    except Exception as ex:\n",
    "        print('Excpetion while connecting to MongoDB')\n",
    "        print(str(ex))\n",
    "    finally:\n",
    "        return collection\n"
   ]
  },
  {
   "cell_type": "code",
   "execution_count": null,
   "metadata": {},
   "outputs": [],
   "source": [
    "consumer_instance = connect_kafka_consumer()\n",
    "collection = connect_to_mongo()\n",
    "for message in consumer_instance:\n",
    "    print('Message Consumed Successfully')\n",
    "    print(message.value)\n",
    "    collection.insert_one(message.value[0])"
   ]
  },
  {
   "cell_type": "code",
   "execution_count": null,
   "metadata": {},
   "outputs": [],
   "source": []
  }
 ],
 "metadata": {
  "kernelspec": {
   "display_name": "Python 3",
   "language": "python",
   "name": "python3"
  },
  "language_info": {
   "codemirror_mode": {
    "name": "ipython",
    "version": 3
   },
   "file_extension": ".py",
   "mimetype": "text/x-python",
   "name": "python",
   "nbconvert_exporter": "python",
   "pygments_lexer": "ipython3",
   "version": "3.8.2"
  }
 },
 "nbformat": 4,
 "nbformat_minor": 4
}
